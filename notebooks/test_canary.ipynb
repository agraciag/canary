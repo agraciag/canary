# Import required libraries
from nemo.collections.asr.models import EncDecMultiTaskModel
import json

# Load Canary model
canary_model = EncDecMultiTaskModel.from_pretrained('nvidia/canary-1b')

# Configure decoding
decode_cfg = canary_model.cfg.decoding
decode_cfg.beam.beam_size = 1
canary_model.change_decoding_strategy(decode_cfg)

# Simple English ASR test
# Replace with your audio file path
audio_path = '/workspace/test.wav'
transcription = canary_model.transcribe([audio_path])
print("English Transcription:", transcription)

# Multi-language test (using manifest)
manifest_data = {
    "audio_filepath": audio_path,
    "duration": 1000,  # Set actual duration
    "taskname": "s2t_translation",
    "source_lang": "en",
    "target_lang": "de",  # German translation
    "pnc": "yes",
    "answer": "na"
}

# Save manifest
with open('/workspace/manifest.json', 'w') as f:
    json.dump(manifest_data, f)

# Perform translation
translation = canary_model.transcribe('manifest.json')
print("English to German Translation:", translation)