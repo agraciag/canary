{
 "cells": [
  {
   "cell_type": "code",
   "execution_count": null,
   "id": "c962c618-9362-446a-b5e5-70a08b105068",
   "metadata": {},
   "outputs": [],
   "source": [
    "!pip install ipywidgets\n",
    "!jupyter nbextension enable --py widgetsnbextension"
   ]
  },
  {
   "cell_type": "code",
   "execution_count": null,
   "id": "7c810e71-42e0-4982-99de-ce4f3f9e2115",
   "metadata": {},
   "outputs": [],
   "source": [
    "# Import required libraries\n",
    "from nemo.collections.asr.models import EncDecMultiTaskModel\n",
    "import json\n",
    "\n",
    "# Load Canary model\n",
    "canary_model = EncDecMultiTaskModel.from_pretrained('nvidia/canary-1b')\n",
    "\n",
    "# Configure decoding\n",
    "decode_cfg = canary_model.cfg.decoding\n",
    "decode_cfg.beam.beam_size = 1\n",
    "canary_model.change_decoding_strategy(decode_cfg)\n",
    "\n",
    "# Simple English ASR test\n",
    "# Replace with your audio file path\n",
    "audio_path = '/workspace/test.wav'\n",
    "transcription = canary_model.transcribe([audio_path])\n",
    "print(\"English Transcription:\", transcription)\n",
    "\n",
    "# Multi-language test (using manifest)\n",
    "manifest_data = {\n",
    "    \"audio_filepath\": audio_path,\n",
    "    \"duration\": 1000,  # Set actual duration\n",
    "    \"taskname\": \"s2t_translation\",\n",
    "    \"source_lang\": \"en\",\n",
    "    \"target_lang\": \"de\",  # German translation\n",
    "    \"pnc\": \"yes\",\n",
    "    \"answer\": \"na\"\n",
    "}\n",
    "\n",
    "# Save manifest\n",
    "with open('/workspace/manifest.json', 'w') as f:\n",
    "    json.dump(manifest_data, f)\n",
    "\n",
    "# Perform translation\n",
    "translation = canary_model.transcribe('manifest.json')\n",
    "print(\"English to German Translation:\", translation)"
   ]
  },
  {
   "cell_type": "code",
   "execution_count": null,
   "id": "88c6fae2-1a02-40bc-b538-a964c1acf395",
   "metadata": {},
   "outputs": [],
   "source": []
  },
  {
   "cell_type": "code",
   "execution_count": null,
   "id": "60130bb9-f59d-4764-b46a-991a9ec3ba9c",
   "metadata": {},
   "outputs": [],
   "source": []
  }
 ],
 "metadata": {
  "kernelspec": {
   "display_name": "Python 3 (ipykernel)",
   "language": "python",
   "name": "python3"
  },
  "language_info": {
   "codemirror_mode": {
    "name": "ipython",
    "version": 3
   },
   "file_extension": ".py",
   "mimetype": "text/x-python",
   "name": "python",
   "nbconvert_exporter": "python",
   "pygments_lexer": "ipython3",
   "version": "3.10.12"
  }
 },
 "nbformat": 4,
 "nbformat_minor": 5
}
